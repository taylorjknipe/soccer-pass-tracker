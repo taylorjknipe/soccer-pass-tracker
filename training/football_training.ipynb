{
 "cells": [
  {
   "cell_type": "code",
   "execution_count": 5,
   "id": "1bea4e1c",
   "metadata": {},
   "outputs": [
    {
     "name": "stdout",
     "output_type": "stream",
     "text": [
      "Requirement already satisfied: ultralytics in /home/tayk/Documents/Code/soccer-pass-tracker/.venv/lib/python3.13/site-packages (8.3.111)\n",
      "Requirement already satisfied: numpy<=2.1.1,>=1.23.0 in /home/tayk/Documents/Code/soccer-pass-tracker/.venv/lib/python3.13/site-packages (from ultralytics) (2.1.1)\n",
      "Requirement already satisfied: matplotlib>=3.3.0 in /home/tayk/Documents/Code/soccer-pass-tracker/.venv/lib/python3.13/site-packages (from ultralytics) (3.10.1)\n",
      "Requirement already satisfied: opencv-python>=4.6.0 in /home/tayk/Documents/Code/soccer-pass-tracker/.venv/lib/python3.13/site-packages (from ultralytics) (4.11.0.86)\n",
      "Requirement already satisfied: pillow>=7.1.2 in /home/tayk/Documents/Code/soccer-pass-tracker/.venv/lib/python3.13/site-packages (from ultralytics) (11.2.1)\n",
      "Requirement already satisfied: pyyaml>=5.3.1 in /home/tayk/Documents/Code/soccer-pass-tracker/.venv/lib/python3.13/site-packages (from ultralytics) (6.0.2)\n",
      "Requirement already satisfied: requests>=2.23.0 in /home/tayk/Documents/Code/soccer-pass-tracker/.venv/lib/python3.13/site-packages (from ultralytics) (2.32.3)\n",
      "Requirement already satisfied: scipy>=1.4.1 in /home/tayk/Documents/Code/soccer-pass-tracker/.venv/lib/python3.13/site-packages (from ultralytics) (1.15.2)\n",
      "Requirement already satisfied: torch>=1.8.0 in /home/tayk/Documents/Code/soccer-pass-tracker/.venv/lib/python3.13/site-packages (from ultralytics) (2.6.0)\n",
      "Requirement already satisfied: torchvision>=0.9.0 in /home/tayk/Documents/Code/soccer-pass-tracker/.venv/lib/python3.13/site-packages (from ultralytics) (0.21.0)\n",
      "Requirement already satisfied: tqdm>=4.64.0 in /home/tayk/Documents/Code/soccer-pass-tracker/.venv/lib/python3.13/site-packages (from ultralytics) (4.67.1)\n",
      "Requirement already satisfied: psutil in /home/tayk/Documents/Code/soccer-pass-tracker/.venv/lib/python3.13/site-packages (from ultralytics) (7.0.0)\n",
      "Requirement already satisfied: py-cpuinfo in /home/tayk/Documents/Code/soccer-pass-tracker/.venv/lib/python3.13/site-packages (from ultralytics) (9.0.0)\n",
      "Requirement already satisfied: pandas>=1.1.4 in /home/tayk/Documents/Code/soccer-pass-tracker/.venv/lib/python3.13/site-packages (from ultralytics) (2.2.3)\n",
      "Requirement already satisfied: seaborn>=0.11.0 in /home/tayk/Documents/Code/soccer-pass-tracker/.venv/lib/python3.13/site-packages (from ultralytics) (0.13.2)\n",
      "Requirement already satisfied: ultralytics-thop>=2.0.0 in /home/tayk/Documents/Code/soccer-pass-tracker/.venv/lib/python3.13/site-packages (from ultralytics) (2.0.14)\n",
      "Requirement already satisfied: contourpy>=1.0.1 in /home/tayk/Documents/Code/soccer-pass-tracker/.venv/lib/python3.13/site-packages (from matplotlib>=3.3.0->ultralytics) (1.3.2)\n",
      "Requirement already satisfied: cycler>=0.10 in /home/tayk/Documents/Code/soccer-pass-tracker/.venv/lib/python3.13/site-packages (from matplotlib>=3.3.0->ultralytics) (0.12.1)\n",
      "Requirement already satisfied: fonttools>=4.22.0 in /home/tayk/Documents/Code/soccer-pass-tracker/.venv/lib/python3.13/site-packages (from matplotlib>=3.3.0->ultralytics) (4.57.0)\n",
      "Requirement already satisfied: kiwisolver>=1.3.1 in /home/tayk/Documents/Code/soccer-pass-tracker/.venv/lib/python3.13/site-packages (from matplotlib>=3.3.0->ultralytics) (1.4.8)\n",
      "Requirement already satisfied: packaging>=20.0 in /home/tayk/Documents/Code/soccer-pass-tracker/.venv/lib/python3.13/site-packages (from matplotlib>=3.3.0->ultralytics) (24.2)\n",
      "Requirement already satisfied: pyparsing>=2.3.1 in /home/tayk/Documents/Code/soccer-pass-tracker/.venv/lib/python3.13/site-packages (from matplotlib>=3.3.0->ultralytics) (3.2.3)\n",
      "Requirement already satisfied: python-dateutil>=2.7 in /home/tayk/Documents/Code/soccer-pass-tracker/.venv/lib/python3.13/site-packages (from matplotlib>=3.3.0->ultralytics) (2.9.0.post0)\n",
      "Requirement already satisfied: pytz>=2020.1 in /home/tayk/Documents/Code/soccer-pass-tracker/.venv/lib/python3.13/site-packages (from pandas>=1.1.4->ultralytics) (2025.2)\n",
      "Requirement already satisfied: tzdata>=2022.7 in /home/tayk/Documents/Code/soccer-pass-tracker/.venv/lib/python3.13/site-packages (from pandas>=1.1.4->ultralytics) (2025.2)\n",
      "Requirement already satisfied: charset-normalizer<4,>=2 in /home/tayk/Documents/Code/soccer-pass-tracker/.venv/lib/python3.13/site-packages (from requests>=2.23.0->ultralytics) (3.4.1)\n",
      "Requirement already satisfied: idna<4,>=2.5 in /home/tayk/Documents/Code/soccer-pass-tracker/.venv/lib/python3.13/site-packages (from requests>=2.23.0->ultralytics) (3.7)\n",
      "Requirement already satisfied: urllib3<3,>=1.21.1 in /home/tayk/Documents/Code/soccer-pass-tracker/.venv/lib/python3.13/site-packages (from requests>=2.23.0->ultralytics) (2.4.0)\n",
      "Requirement already satisfied: certifi>=2017.4.17 in /home/tayk/Documents/Code/soccer-pass-tracker/.venv/lib/python3.13/site-packages (from requests>=2.23.0->ultralytics) (2025.1.31)\n",
      "Requirement already satisfied: filelock in /home/tayk/Documents/Code/soccer-pass-tracker/.venv/lib/python3.13/site-packages (from torch>=1.8.0->ultralytics) (3.18.0)\n",
      "Requirement already satisfied: typing-extensions>=4.10.0 in /home/tayk/Documents/Code/soccer-pass-tracker/.venv/lib/python3.13/site-packages (from torch>=1.8.0->ultralytics) (4.13.2)\n",
      "Requirement already satisfied: networkx in /home/tayk/Documents/Code/soccer-pass-tracker/.venv/lib/python3.13/site-packages (from torch>=1.8.0->ultralytics) (3.4.2)\n",
      "Requirement already satisfied: jinja2 in /home/tayk/Documents/Code/soccer-pass-tracker/.venv/lib/python3.13/site-packages (from torch>=1.8.0->ultralytics) (3.1.6)\n",
      "Requirement already satisfied: fsspec in /home/tayk/Documents/Code/soccer-pass-tracker/.venv/lib/python3.13/site-packages (from torch>=1.8.0->ultralytics) (2025.3.2)\n",
      "Requirement already satisfied: nvidia-cuda-nvrtc-cu12==12.4.127 in /home/tayk/Documents/Code/soccer-pass-tracker/.venv/lib/python3.13/site-packages (from torch>=1.8.0->ultralytics) (12.4.127)\n",
      "Requirement already satisfied: nvidia-cuda-runtime-cu12==12.4.127 in /home/tayk/Documents/Code/soccer-pass-tracker/.venv/lib/python3.13/site-packages (from torch>=1.8.0->ultralytics) (12.4.127)\n",
      "Requirement already satisfied: nvidia-cuda-cupti-cu12==12.4.127 in /home/tayk/Documents/Code/soccer-pass-tracker/.venv/lib/python3.13/site-packages (from torch>=1.8.0->ultralytics) (12.4.127)\n",
      "Requirement already satisfied: nvidia-cudnn-cu12==9.1.0.70 in /home/tayk/Documents/Code/soccer-pass-tracker/.venv/lib/python3.13/site-packages (from torch>=1.8.0->ultralytics) (9.1.0.70)\n",
      "Requirement already satisfied: nvidia-cublas-cu12==12.4.5.8 in /home/tayk/Documents/Code/soccer-pass-tracker/.venv/lib/python3.13/site-packages (from torch>=1.8.0->ultralytics) (12.4.5.8)\n",
      "Requirement already satisfied: nvidia-cufft-cu12==11.2.1.3 in /home/tayk/Documents/Code/soccer-pass-tracker/.venv/lib/python3.13/site-packages (from torch>=1.8.0->ultralytics) (11.2.1.3)\n",
      "Requirement already satisfied: nvidia-curand-cu12==10.3.5.147 in /home/tayk/Documents/Code/soccer-pass-tracker/.venv/lib/python3.13/site-packages (from torch>=1.8.0->ultralytics) (10.3.5.147)\n",
      "Requirement already satisfied: nvidia-cusolver-cu12==11.6.1.9 in /home/tayk/Documents/Code/soccer-pass-tracker/.venv/lib/python3.13/site-packages (from torch>=1.8.0->ultralytics) (11.6.1.9)\n",
      "Requirement already satisfied: nvidia-cusparse-cu12==12.3.1.170 in /home/tayk/Documents/Code/soccer-pass-tracker/.venv/lib/python3.13/site-packages (from torch>=1.8.0->ultralytics) (12.3.1.170)\n",
      "Requirement already satisfied: nvidia-cusparselt-cu12==0.6.2 in /home/tayk/Documents/Code/soccer-pass-tracker/.venv/lib/python3.13/site-packages (from torch>=1.8.0->ultralytics) (0.6.2)\n",
      "Requirement already satisfied: nvidia-nccl-cu12==2.21.5 in /home/tayk/Documents/Code/soccer-pass-tracker/.venv/lib/python3.13/site-packages (from torch>=1.8.0->ultralytics) (2.21.5)\n",
      "Requirement already satisfied: nvidia-nvtx-cu12==12.4.127 in /home/tayk/Documents/Code/soccer-pass-tracker/.venv/lib/python3.13/site-packages (from torch>=1.8.0->ultralytics) (12.4.127)\n",
      "Requirement already satisfied: nvidia-nvjitlink-cu12==12.4.127 in /home/tayk/Documents/Code/soccer-pass-tracker/.venv/lib/python3.13/site-packages (from torch>=1.8.0->ultralytics) (12.4.127)\n",
      "Requirement already satisfied: triton==3.2.0 in /home/tayk/Documents/Code/soccer-pass-tracker/.venv/lib/python3.13/site-packages (from torch>=1.8.0->ultralytics) (3.2.0)\n",
      "Requirement already satisfied: setuptools in /home/tayk/Documents/Code/soccer-pass-tracker/.venv/lib/python3.13/site-packages (from torch>=1.8.0->ultralytics) (78.1.0)\n",
      "Requirement already satisfied: sympy==1.13.1 in /home/tayk/Documents/Code/soccer-pass-tracker/.venv/lib/python3.13/site-packages (from torch>=1.8.0->ultralytics) (1.13.1)\n",
      "Requirement already satisfied: mpmath<1.4,>=1.1.0 in /home/tayk/Documents/Code/soccer-pass-tracker/.venv/lib/python3.13/site-packages (from sympy==1.13.1->torch>=1.8.0->ultralytics) (1.3.0)\n",
      "Requirement already satisfied: six>=1.5 in /home/tayk/Documents/Code/soccer-pass-tracker/.venv/lib/python3.13/site-packages (from python-dateutil>=2.7->matplotlib>=3.3.0->ultralytics) (1.17.0)\n",
      "Requirement already satisfied: MarkupSafe>=2.0 in /home/tayk/Documents/Code/soccer-pass-tracker/.venv/lib/python3.13/site-packages (from jinja2->torch>=1.8.0->ultralytics) (3.0.2)\n",
      "Note: you may need to restart the kernel to use updated packages.\n",
      "Requirement already satisfied: roboflow in /home/tayk/Documents/Code/soccer-pass-tracker/.venv/lib/python3.13/site-packages (1.1.61)\n",
      "Requirement already satisfied: certifi in /home/tayk/Documents/Code/soccer-pass-tracker/.venv/lib/python3.13/site-packages (from roboflow) (2025.1.31)\n",
      "Requirement already satisfied: idna==3.7 in /home/tayk/Documents/Code/soccer-pass-tracker/.venv/lib/python3.13/site-packages (from roboflow) (3.7)\n",
      "Requirement already satisfied: cycler in /home/tayk/Documents/Code/soccer-pass-tracker/.venv/lib/python3.13/site-packages (from roboflow) (0.12.1)\n",
      "Requirement already satisfied: kiwisolver>=1.3.1 in /home/tayk/Documents/Code/soccer-pass-tracker/.venv/lib/python3.13/site-packages (from roboflow) (1.4.8)\n",
      "Requirement already satisfied: matplotlib in /home/tayk/Documents/Code/soccer-pass-tracker/.venv/lib/python3.13/site-packages (from roboflow) (3.10.1)\n",
      "Requirement already satisfied: numpy>=1.18.5 in /home/tayk/Documents/Code/soccer-pass-tracker/.venv/lib/python3.13/site-packages (from roboflow) (2.1.1)\n",
      "Requirement already satisfied: opencv-python-headless==4.10.0.84 in /home/tayk/Documents/Code/soccer-pass-tracker/.venv/lib/python3.13/site-packages (from roboflow) (4.10.0.84)\n",
      "Requirement already satisfied: Pillow>=7.1.2 in /home/tayk/Documents/Code/soccer-pass-tracker/.venv/lib/python3.13/site-packages (from roboflow) (11.2.1)\n",
      "Requirement already satisfied: pillow-heif>=0.18.0 in /home/tayk/Documents/Code/soccer-pass-tracker/.venv/lib/python3.13/site-packages (from roboflow) (0.22.0)\n",
      "Requirement already satisfied: python-dateutil in /home/tayk/Documents/Code/soccer-pass-tracker/.venv/lib/python3.13/site-packages (from roboflow) (2.9.0.post0)\n",
      "Requirement already satisfied: python-dotenv in /home/tayk/Documents/Code/soccer-pass-tracker/.venv/lib/python3.13/site-packages (from roboflow) (1.1.0)\n",
      "Requirement already satisfied: requests in /home/tayk/Documents/Code/soccer-pass-tracker/.venv/lib/python3.13/site-packages (from roboflow) (2.32.3)\n",
      "Requirement already satisfied: six in /home/tayk/Documents/Code/soccer-pass-tracker/.venv/lib/python3.13/site-packages (from roboflow) (1.17.0)\n",
      "Requirement already satisfied: urllib3>=1.26.6 in /home/tayk/Documents/Code/soccer-pass-tracker/.venv/lib/python3.13/site-packages (from roboflow) (2.4.0)\n",
      "Requirement already satisfied: tqdm>=4.41.0 in /home/tayk/Documents/Code/soccer-pass-tracker/.venv/lib/python3.13/site-packages (from roboflow) (4.67.1)\n",
      "Requirement already satisfied: PyYAML>=5.3.1 in /home/tayk/Documents/Code/soccer-pass-tracker/.venv/lib/python3.13/site-packages (from roboflow) (6.0.2)\n",
      "Requirement already satisfied: requests-toolbelt in /home/tayk/Documents/Code/soccer-pass-tracker/.venv/lib/python3.13/site-packages (from roboflow) (1.0.0)\n",
      "Requirement already satisfied: filetype in /home/tayk/Documents/Code/soccer-pass-tracker/.venv/lib/python3.13/site-packages (from roboflow) (1.2.0)\n",
      "Requirement already satisfied: contourpy>=1.0.1 in /home/tayk/Documents/Code/soccer-pass-tracker/.venv/lib/python3.13/site-packages (from matplotlib->roboflow) (1.3.2)\n",
      "Requirement already satisfied: fonttools>=4.22.0 in /home/tayk/Documents/Code/soccer-pass-tracker/.venv/lib/python3.13/site-packages (from matplotlib->roboflow) (4.57.0)\n",
      "Requirement already satisfied: packaging>=20.0 in /home/tayk/Documents/Code/soccer-pass-tracker/.venv/lib/python3.13/site-packages (from matplotlib->roboflow) (24.2)\n",
      "Requirement already satisfied: pyparsing>=2.3.1 in /home/tayk/Documents/Code/soccer-pass-tracker/.venv/lib/python3.13/site-packages (from matplotlib->roboflow) (3.2.3)\n",
      "Requirement already satisfied: charset-normalizer<4,>=2 in /home/tayk/Documents/Code/soccer-pass-tracker/.venv/lib/python3.13/site-packages (from requests->roboflow) (3.4.1)\n",
      "Note: you may need to restart the kernel to use updated packages.\n"
     ]
    }
   ],
   "source": [
    "%pip install ultralytics\n",
    "%pip install roboflow"
   ]
  },
  {
   "cell_type": "markdown",
   "id": "d1c42c6e",
   "metadata": {},
   "source": [
    "## Get Dataset"
   ]
  },
  {
   "cell_type": "code",
   "execution_count": null,
   "id": "080e0a02",
   "metadata": {},
   "outputs": [
    {
     "name": "stdout",
     "output_type": "stream",
     "text": [
      "loading Roboflow workspace...\n",
      "loading Roboflow project...\n"
     ]
    }
   ],
   "source": [
    "from roboflow import Roboflow\n",
    "rf = Roboflow(api_key=\"9XfsR6e7SjlQQhPqhKtw\")\n",
    "project = rf.workspace(\"roboflow-jvuqo\").project(\"football-players-detection-3zvbc\")\n",
    "version = project.version(1)\n",
    "dataset = version.download(\"yolov5\")\n",
    "                "
   ]
  },
  {
   "cell_type": "code",
   "execution_count": 7,
   "id": "d3c68047",
   "metadata": {},
   "outputs": [
    {
     "data": {
      "text/plain": [
       "'/home/tayk/Documents/Code/soccer-pass-tracker/training/football-players-detection-1'"
      ]
     },
     "execution_count": 7,
     "metadata": {},
     "output_type": "execute_result"
    }
   ],
   "source": [
    "dataset.location"
   ]
  },
  {
   "cell_type": "code",
   "execution_count": 8,
   "id": "e8ceffe4",
   "metadata": {},
   "outputs": [
    {
     "data": {
      "text/plain": [
       "'football-players-detection-1/football-players-detection-1/valid'"
      ]
     },
     "execution_count": 8,
     "metadata": {},
     "output_type": "execute_result"
    }
   ],
   "source": [
    "import shutil\n",
    "\n",
    "shutil.move('football-players-detection-1/train', 'football-players-detection-1/football-players-detection-1/train')\n",
    "shutil.move('football-players-detection-1/test', 'football-players-detection-1/football-players-detection-1/test')\n",
    "shutil.move('football-players-detection-1/valid', 'football-players-detection-1/football-players-detection-1/valid')"
   ]
  },
  {
   "cell_type": "markdown",
   "id": "f6fbe416",
   "metadata": {},
   "source": [
    "## Training"
   ]
  },
  {
   "cell_type": "code",
   "execution_count": null,
   "id": "983624de",
   "metadata": {},
   "outputs": [],
   "source": [
    "!yolo task=detect mode=train model=yolov5x.pt data={dataset.location}/data.yaml epochs=100 imgsz=640"
   ]
  }
 ],
 "metadata": {
  "kernelspec": {
   "display_name": ".venv",
   "language": "python",
   "name": "python3"
  },
  "language_info": {
   "codemirror_mode": {
    "name": "ipython",
    "version": 3
   },
   "file_extension": ".py",
   "mimetype": "text/x-python",
   "name": "python",
   "nbconvert_exporter": "python",
   "pygments_lexer": "ipython3",
   "version": "3.13.3"
  }
 },
 "nbformat": 4,
 "nbformat_minor": 5
}
